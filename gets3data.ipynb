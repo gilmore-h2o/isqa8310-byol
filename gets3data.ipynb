{
 "cells": [
  {
   "cell_type": "code",
   "execution_count": 1,
   "id": "347ea1ee-91ad-4a0b-844d-f6f623be8480",
   "metadata": {
    "tags": []
   },
   "outputs": [
    {
     "name": "stdout",
     "output_type": "stream",
     "text": [
      "sagemaker.config INFO - Not applying SDK defaults from location: /etc/xdg/sagemaker/config.yaml\n",
      "sagemaker.config INFO - Not applying SDK defaults from location: /home/ec2-user/.config/sagemaker/config.yaml\n"
     ]
    }
   ],
   "source": [
    "import boto3\n",
    "import sagemaker\n",
    "from sagemaker import get_execution_role\n",
    "\n",
    "# Initialize the SageMaker role, session, and s3 client\n",
    "role = sagemaker.get_execution_role() # specifies your permissions to use AWS tools\n",
    "session = sagemaker.Session() \n",
    "s3 = boto3.client('s3')"
   ]
  },
  {
   "cell_type": "code",
   "execution_count": null,
   "id": "a66274c4-0d16-4a83-89a6-84499959a8b7",
   "metadata": {},
   "outputs": [],
   "source": [
    "import pandas as pd\n",
    "# Define the S3 bucket and object key\n",
    "bucket_name = 'myawesometeam-titanic'  # replace with your S3 bucket name\n",
    "\n",
    "# Read the train data from S3\n",
    "key = 'titanic_train.csv'  # replace with your object key\n",
    "response = s3.get_object(Bucket=bucket_name, Key=key)\n",
    "train_data = pd.read_csv(response['Body'])\n",
    "\n",
    "# Read the test data from S3\n",
    "key = 'titanic_test.csv'  # replace with your object key\n",
    "response = s3.get_object(Bucket=bucket_name, Key=key)\n",
    "test_data = pd.read_csv(response['Body'])\n",
    "\n",
    "# check shape\n",
    "print(train_data.shape)\n",
    "print(test_data.shape)\n",
    "\n",
    "# Inspect the first few rows of the DataFrame\n",
    "train_data.head()"
   ]
  }
 ],
 "metadata": {
  "kernelspec": {
   "display_name": "conda_python3",
   "language": "python",
   "name": "conda_python3"
  },
  "language_info": {
   "codemirror_mode": {
    "name": "ipython",
    "version": 3
   },
   "file_extension": ".py",
   "mimetype": "text/x-python",
   "name": "python",
   "nbconvert_exporter": "python",
   "pygments_lexer": "ipython3",
   "version": "3.10.15"
  }
 },
 "nbformat": 4,
 "nbformat_minor": 5
}
