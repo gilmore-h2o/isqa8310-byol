{
 "cells": [
  {
   "cell_type": "code",
   "execution_count": 1,
   "id": "347ea1ee-91ad-4a0b-844d-f6f623be8480",
   "metadata": {
    "tags": []
   },
   "outputs": [
    {
     "name": "stdout",
     "output_type": "stream",
     "text": [
      "sagemaker.config INFO - Not applying SDK defaults from location: /etc/xdg/sagemaker/config.yaml\n",
      "sagemaker.config INFO - Not applying SDK defaults from location: /home/ec2-user/.config/sagemaker/config.yaml\n"
     ]
    }
   ],
   "source": [
    "# CODE DEVELOPED FROM:\n",
    "# https://uw-madison-datascience.github.io/ML_with_Amazon_SageMaker/Accessing-S3-via-SageMaker-notebooks.html\n",
    "\n",
    "import boto3\n",
    "import sagemaker\n",
    "from sagemaker import get_execution_role\n",
    "\n",
    "# Initialize the SageMaker role, session, and s3 client\n",
    "role = sagemaker.get_execution_role() # specifies your permissions to use AWS tools\n",
    "session = sagemaker.Session() \n",
    "s3 = boto3.client('s3')"
   ]
  },
  {
   "cell_type": "code",
   "execution_count": 2,
   "id": "a66274c4-0d16-4a83-89a6-84499959a8b7",
   "metadata": {
    "tags": []
   },
   "outputs": [
    {
     "name": "stdout",
     "output_type": "stream",
     "text": [
      "{'ResponseMetadata': {'RequestId': 'VD9ZN2CM0SHEBDQE', 'HostId': 'XHtuY8Wbfo921Nb0DQxDZB4Ad18mpMxxP0Nq5OQy+aVozo818GJpNePMe2mzyK9jyAe4hCApcs4=', 'HTTPStatusCode': 200, 'HTTPHeaders': {'x-amz-id-2': 'XHtuY8Wbfo921Nb0DQxDZB4Ad18mpMxxP0Nq5OQy+aVozo818GJpNePMe2mzyK9jyAe4hCApcs4=', 'x-amz-request-id': 'VD9ZN2CM0SHEBDQE', 'date': 'Wed, 20 Nov 2024 01:54:01 GMT', 'last-modified': 'Tue, 19 Nov 2024 21:19:26 GMT', 'etag': '\"d02500ba5786779f8fbc54dddceeac0b\"', 'x-amz-server-side-encryption': 'AES256', 'accept-ranges': 'bytes', 'content-type': 'text/csv', 'content-length': '326', 'server': 'AmazonS3'}, 'RetryAttempts': 0}, 'AcceptRanges': 'bytes', 'LastModified': datetime.datetime(2024, 11, 19, 21, 19, 26, tzinfo=tzutc()), 'ContentLength': 326, 'ETag': '\"d02500ba5786779f8fbc54dddceeac0b\"', 'ContentType': 'text/csv', 'ServerSideEncryption': 'AES256', 'Metadata': {}, 'Body': <botocore.response.StreamingBody object at 0x7fa7ab725090>}\n"
     ]
    },
    {
     "data": {
      "text/html": [
       "<div>\n",
       "<style scoped>\n",
       "    .dataframe tbody tr th:only-of-type {\n",
       "        vertical-align: middle;\n",
       "    }\n",
       "\n",
       "    .dataframe tbody tr th {\n",
       "        vertical-align: top;\n",
       "    }\n",
       "\n",
       "    .dataframe thead th {\n",
       "        text-align: right;\n",
       "    }\n",
       "</style>\n",
       "<table border=\"1\" class=\"dataframe\">\n",
       "  <thead>\n",
       "    <tr style=\"text-align: right;\">\n",
       "      <th></th>\n",
       "      <th>CustomerID</th>\n",
       "      <th>First Name</th>\n",
       "      <th>Last Name</th>\n",
       "      <th>Join Date</th>\n",
       "      <th>Street Address</th>\n",
       "      <th>City</th>\n",
       "      <th>State</th>\n",
       "      <th>Phone</th>\n",
       "    </tr>\n",
       "  </thead>\n",
       "  <tbody>\n",
       "    <tr>\n",
       "      <th>0</th>\n",
       "      <td>1</td>\n",
       "      <td>Alejandro</td>\n",
       "      <td>Rosalez</td>\n",
       "      <td>12/12/2013</td>\n",
       "      <td>123 Main St.</td>\n",
       "      <td>Any Town</td>\n",
       "      <td>MD</td>\n",
       "      <td>301-555-0158</td>\n",
       "    </tr>\n",
       "    <tr>\n",
       "      <th>1</th>\n",
       "      <td>2</td>\n",
       "      <td>Jane</td>\n",
       "      <td>Doe</td>\n",
       "      <td>10/5/2014</td>\n",
       "      <td>456 State St.</td>\n",
       "      <td>Anywhere</td>\n",
       "      <td>WA</td>\n",
       "      <td>360-555-0163</td>\n",
       "    </tr>\n",
       "    <tr>\n",
       "      <th>2</th>\n",
       "      <td>3</td>\n",
       "      <td>John</td>\n",
       "      <td>Stiles</td>\n",
       "      <td>9/20/2016</td>\n",
       "      <td>1980 8th St.</td>\n",
       "      <td>Nowhere</td>\n",
       "      <td>NY</td>\n",
       "      <td>914-555-0122</td>\n",
       "    </tr>\n",
       "    <tr>\n",
       "      <th>3</th>\n",
       "      <td>4</td>\n",
       "      <td>Li</td>\n",
       "      <td>Juan</td>\n",
       "      <td>6/29/2011</td>\n",
       "      <td>1323 22nd Ave.</td>\n",
       "      <td>Anytown</td>\n",
       "      <td>NY</td>\n",
       "      <td>914-555-0149</td>\n",
       "    </tr>\n",
       "  </tbody>\n",
       "</table>\n",
       "</div>"
      ],
      "text/plain": [
       "   CustomerID First Name Last Name   Join Date  Street Address      City  \\\n",
       "0           1  Alejandro   Rosalez  12/12/2013    123 Main St.  Any Town   \n",
       "1           2       Jane       Doe   10/5/2014   456 State St.  Anywhere   \n",
       "2           3       John    Stiles   9/20/2016    1980 8th St.   Nowhere   \n",
       "3           4         Li      Juan   6/29/2011  1323 22nd Ave.   Anytown   \n",
       "\n",
       "  State         Phone  \n",
       "0    MD  301-555-0158  \n",
       "1    WA  360-555-0163  \n",
       "2    NY  914-555-0122  \n",
       "3    NY  914-555-0149  "
      ]
     },
     "execution_count": 2,
     "metadata": {},
     "output_type": "execute_result"
    }
   ],
   "source": [
    "import pandas as pd\n",
    "# Define the S3 bucket and object key (i.e., file name)\n",
    "bucket_name = 's3-byol-data'  # replace with your S3 bucket name\n",
    "\n",
    "# Read the data from S3\n",
    "key = 'customer-data.csv'  # replace with your object key\n",
    "response = s3.get_object(Bucket=bucket_name, Key=key)\n",
    "print(response)\n",
    "\n",
    "# Create DataFrame\n",
    "data = pd.read_csv(response['Body'])\n",
    "\n",
    "# Inspect the first few rows of the DataFrame\n",
    "data.head()"
   ]
  },
  {
   "cell_type": "code",
   "execution_count": null,
   "id": "02c47711-4153-4d3f-973d-2345f8915de0",
   "metadata": {},
   "outputs": [],
   "source": []
  }
 ],
 "metadata": {
  "kernelspec": {
   "display_name": "conda_python3",
   "language": "python",
   "name": "conda_python3"
  },
  "language_info": {
   "codemirror_mode": {
    "name": "ipython",
    "version": 3
   },
   "file_extension": ".py",
   "mimetype": "text/x-python",
   "name": "python",
   "nbconvert_exporter": "python",
   "pygments_lexer": "ipython3",
   "version": "3.10.15"
  }
 },
 "nbformat": 4,
 "nbformat_minor": 5
}
